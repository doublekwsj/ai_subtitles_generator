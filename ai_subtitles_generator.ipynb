{
 "cells": [
  {
   "cell_type": "code",
   "execution_count": null,
   "metadata": {
    "application/vnd.databricks.v1+cell": {
     "cellMetadata": {
      "byteLimit": 2048000,
      "rowLimit": 10000
     },
     "inputWidgets": {},
     "nuid": "d3ba74d0-3a13-4813-9adf-67d7ae0371a4",
     "showTitle": false,
     "title": ""
    }
   },
   "outputs": [],
   "source": [
    "import whisper_timestamped as whisper\n",
    "from moviepy.editor import *\n",
    "import json\n",
    "import openai\n",
    "import re\n",
    "import cv2\n",
    "import srt\n",
    "from datetime import datetime\n",
    "from PIL import ImageFont, ImageDraw, Image\n",
    "import numpy as np\n",
    "from moviepy.editor import VideoFileClip\n",
    "import uuid"
   ]
  },
  {
   "cell_type": "code",
   "execution_count": null,
   "metadata": {
    "application/vnd.databricks.v1+cell": {
     "cellMetadata": {
      "byteLimit": 2048000,
      "rowLimit": 10000
     },
     "inputWidgets": {},
     "nuid": "c3ab49f6-b0d7-4fdd-9dc0-8b96caf6b1e0",
     "showTitle": false,
     "title": ""
    }
   },
   "outputs": [],
   "source": [
    "def extract_audio(input_video):\n",
    "    video_path = input_video\n",
    "    audio_path = input_video.replace(\"mp4\", \"wav\")\n",
    "\n",
    "    video = VideoFileClip(video_path)\n",
    "    audio = video.audio\n",
    "    audio.write_audiofile(audio_path, codec='pcm_s16le')\n",
    "\n",
    "    return audio_path\n",
    "\n",
    "def extract_subtitle(path_audio):\n",
    "    model = whisper.load_model(\"large\")\n",
    "    audio = whisper.load_audio(path_audio)\n",
    "    result = whisper.transcribe(model, audio)\n",
    "\n",
    "    output_path = path_audio.replace(\".wav\",\"_en.srt\")\n",
    "    json_to_srt(json.loads(json.dumps(result['segments'])), output_path)\n",
    "    return output_path\n",
    "\n",
    "\n",
    "def json_to_srt(json_data, srt_file):    \n",
    "    with open(srt_file, 'w', encoding='utf-8') as f:\n",
    "        count = 1\n",
    "        for item in json_data:\n",
    "            print(item)\n",
    "            start_time = item['start']\n",
    "            end_time = item['end']\n",
    "            text = item['text']\n",
    "            srt_entry = f\"{count}\\n{seconds_to_srt_time(start_time)} --> {seconds_to_srt_time(end_time)}\\n{text}\\n\\n\"\n",
    "            f.write(srt_entry)\n",
    "            count += 1\n",
    "\n",
    "def seconds_to_srt_time(seconds):\n",
    "    milliseconds = int((seconds - int(seconds)) * 1000)\n",
    "    minutes, seconds = divmod(int(seconds), 60)\n",
    "    hours, minutes = divmod(minutes, 60)\n",
    "    return f\"{hours:02d}:{minutes:02d}:{seconds:02d},{milliseconds:03d}\"\n",
    "\n",
    "def make_message(path_srt, country):\n",
    "    message = \"The following is an SRT file. Convert the English subtitles to %s subtitles and provide the output in SRT file format. Only output and no other conversation.\\n\"%(country)\n",
    "    try:\n",
    "        with open(path_srt, 'r', encoding='utf-8') as file:\n",
    "            for line in file:\n",
    "                # Please remove if you want to translate until end of video. \n",
    "                if line == \"70\\n\":\n",
    "                    break\n",
    "                message += line\n",
    "    except FileNotFoundError:\n",
    "        message += \"Error: File not found.\"\n",
    "\n",
    "    request_payload = [\n",
    "        {\n",
    "            \"role\":\"user\",\n",
    "            \"content\":message\n",
    "        }\n",
    "    ]\n",
    "\n",
    "    return request_payload\n",
    "\n",
    "def save_script_as_other_country(path_srt, api_key, country=\"Korean\"):\n",
    "    path_srt_kor = re.sub(r'([^/]+)\\.srt$', r'\\1_%s.srt'%(country), path_srt)\n",
    "    request_payload = make_message(path_srt, country=country)\n",
    "    final_content = request_gpt_api(api_key, request_payload)\n",
    "    with open(path_srt_kor, \"w\", encoding='utf-8') as f:\n",
    "        f.write(final_content)\n",
    "\n",
    "    return path_srt_kor\n",
    "\n",
    "\n",
    "def request_gpt_api(api_key, request_payload):\n",
    "    client = openai.OpenAI(\n",
    "        api_key=api_key,\n",
    "    )\n",
    "    completion = client.chat.completions.create(\n",
    "        model=\"gpt-3.5-turbo\", messages=request_payload,\n",
    "        stream=True,\n",
    "    )\n",
    "    final_content = \"\"\n",
    "    for chunk in completion:\n",
    "        if chunk.choices[0].delta.content is not None:\n",
    "            final_content += chunk.choices[0].delta.content\n",
    "    return final_content\n",
    "\n",
    "def add_video_subtitle_from_srt(input_video, output_video, srt_file):\n",
    "    print(output_video)\n",
    "    with open(srt_file, \"r\", encoding=\"utf-8\") as f:\n",
    "        subtitles = list(srt.parse(f))\n",
    "        print(subtitles)\n",
    "\n",
    "    cap = cv2.VideoCapture(input_video)\n",
    "    if not cap.isOpened():\n",
    "        print(\"Error: Failed to open input video.\")\n",
    "        return\n",
    "    audio_clip = VideoFileClip(input_video).audio\n",
    "\n",
    "    frame_width = int(cap.get(cv2.CAP_PROP_FRAME_WIDTH))\n",
    "    frame_height = int(cap.get(cv2.CAP_PROP_FRAME_HEIGHT))\n",
    "    fps = cap.get(cv2.CAP_PROP_FPS)\n",
    "    frame_count = int(cap.get(cv2.CAP_PROP_FRAME_COUNT))\n",
    "\n",
    "    duration = frame_count / fps\n",
    "\n",
    "    fourcc = cv2.VideoWriter_fourcc(*\"mp4v\")\n",
    "    tmp_path = \"tmp%s.mp4\"%(str(uuid.uuid4()))\n",
    "    out = cv2.VideoWriter(tmp_path, fourcc, fps, (frame_width, frame_height))\n",
    "\n",
    "    list_frame = []\n",
    "    while True:\n",
    "        ret, frame = cap.read()\n",
    "        if not ret:\n",
    "            break\n",
    "        list_frame.append(frame)\n",
    "\n",
    "    for subtitle in subtitles:\n",
    "\n",
    "        start_frame = int(subtitle.start.total_seconds() * fps)\n",
    "        end_frame = int(subtitle.end.total_seconds() * fps)\n",
    "\n",
    "        if subtitle.start.total_seconds() > duration:\n",
    "            break\n",
    "        if subtitle.end.total_seconds() > duration:\n",
    "            break\n",
    "\n",
    "\n",
    "        for index_frame in range(start_frame, end_frame):\n",
    "            frame = list_frame[index_frame]\n",
    "            text = subtitle.content\n",
    "            font = ImageFont.truetype(\"./fonts/MaruBuri-Bold.ttf\", 20)\n",
    "            frame = Image.fromarray(frame)\n",
    "            draw = ImageDraw.Draw(frame)\n",
    "            text_width, text_height = draw.textsize(text, font=font)\n",
    "            image_width, image_height = frame.size\n",
    "            x = (image_width - text_width) // 2\n",
    "            y = (image_height - text_height) // 2\n",
    "\n",
    "            draw.text((x, 200), text, (255, 255, 255), font=font)\n",
    "            frame = np.array(frame)\n",
    "\n",
    "            list_frame[index_frame] = frame\n",
    "    for frame in list_frame:\n",
    "        out.write(frame)\n",
    "\n",
    "    cap.release()\n",
    "    out.release()\n",
    "\n",
    "    video_clip = VideoFileClip(tmp_path)\n",
    "    final_clip = video_clip.set_audio(audio_clip)\n",
    "    final_clip.write_videofile(output_video, codec=\"libx264\", audio_codec=\"aac\")\n",
    "\n",
    "    cv2.destroyAllWindows()\n",
    "\n",
    "    os.remove(tmp_path)\n"
   ]
  },
  {
   "cell_type": "code",
   "execution_count": null,
   "metadata": {
    "application/vnd.databricks.v1+cell": {
     "cellMetadata": {
      "byteLimit": 2048000,
      "rowLimit": 10000
     },
     "inputWidgets": {},
     "nuid": "94729cc6-9773-4078-9909-cc92ebc9de69",
     "showTitle": false,
     "title": ""
    }
   },
   "outputs": [],
   "source": [
    "path_video = \"./video_elonmusk.mp4\"\n",
    "api_key = \"\""
   ]
  },
  {
   "cell_type": "code",
   "execution_count": null,
   "metadata": {
    "application/vnd.databricks.v1+cell": {
     "cellMetadata": {
      "byteLimit": 2048000,
      "rowLimit": 10000
     },
     "inputWidgets": {},
     "nuid": "885a710e-6d20-4222-b1f6-f62aa6c348fc",
     "showTitle": false,
     "title": ""
    }
   },
   "outputs": [],
   "source": [
    "path_audio = extract_audio(path_video)\n",
    "path_srt_en = extract_subtitle(path_audio)\n",
    "path_srt_kor = save_script_as_other_country(path_srt_en, api_key, country=\"Korean\")\n",
    "path_srt_fr = save_script_as_other_country(path_srt_en, api_key, country=\"French\")"
   ]
  },
  {
   "cell_type": "code",
   "execution_count": null,
   "metadata": {
    "application/vnd.databricks.v1+cell": {
     "cellMetadata": {
      "byteLimit": 2048000,
      "rowLimit": 10000
     },
     "inputWidgets": {},
     "nuid": "bea2ea84-a3a9-42db-b99f-173ebbba3b5b",
     "showTitle": false,
     "title": ""
    }
   },
   "outputs": [],
   "source": [
    "add_video_subtitle_from_srt(path_video, path_srt_en.replace(\".srt\",\".mp4\"), path_srt_en)\n",
    "add_video_subtitle_from_srt(path_video, path_srt_kor.replace(\".srt\",\".mp4\"), path_srt_kor)\n",
    "add_video_subtitle_from_srt(path_video, path_srt_fr.replace(\".srt\",\".mp4\"), path_srt_fr)"
   ]
  }
 ],
 "metadata": {
  "application/vnd.databricks.v1+notebook": {
   "dashboards": [],
   "language": "python",
   "notebookMetadata": {
    "pythonIndentUnit": 4
   },
   "notebookName": "Untitled Notebook 2024-04-21 16:08:28",
   "widgets": {}
  },
  "language_info": {
   "name": "python"
  }
 },
 "nbformat": 4,
 "nbformat_minor": 0
}
